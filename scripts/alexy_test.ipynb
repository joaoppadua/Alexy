{
 "cells": [
  {
   "cell_type": "markdown",
   "id": "e6b5bef3",
   "metadata": {},
   "source": [
    "# First notebook to test turning Alexy's GEWICHTSFORMEL to code\n"
   ]
  },
  {
   "cell_type": "code",
   "execution_count": 27,
   "id": "24204f71",
   "metadata": {},
   "outputs": [],
   "source": [
    "# Simple version of the algorithm\n",
    "\n",
    "def balance_principles(I_i, I_j, G_i=1, G_j=1, S_i=1, S_j=1):\n",
    "    weight = (I_i * G_i * S_i) / (I_j * G_j * S_j)\n",
    "    \n",
    "    if weight > 1:\n",
    "        return f\"UNCONSTITUTIONAL - P(i) prevails (weight: {weight:.2f})\"\n",
    "    elif weight < 1:\n",
    "        return f\"CONSTITUTIONAL - P(j) prevails (weight: {weight:.2f})\"\n",
    "    else:\n",
    "        return \"STALEMATE - Legislative discretion (weight: 1.00)\"\n",
    "\n",
    "# Tobacco warning example:\n",
    "# Light interference with commercial freedom vs. serious health concerns\n",
    "result = balance_principles(I_i=1, I_j=4)  "
   ]
  },
  {
   "cell_type": "code",
   "execution_count": 28,
   "id": "54dee47a",
   "metadata": {},
   "outputs": [
    {
     "name": "stdout",
     "output_type": "stream",
     "text": [
      "CONSTITUTIONAL - P(j) prevails (weight: 0.25)\n"
     ]
    }
   ],
   "source": [
    "print(result)"
   ]
  },
  {
   "cell_type": "code",
   "execution_count": 38,
   "id": "7b8c8483",
   "metadata": {},
   "outputs": [],
   "source": [
    "# Erweiterte Version des Algorithmus\n",
    "\n",
    "def balance_principles_extended(I, J, I_i, I_j, G_i, G_j, S_i, S_j):\n",
    "    '''\n",
    "    I (list): List of principles that are violated by the law\n",
    "    J (list): list or principles that are violated by not adopting the law\n",
    "    I_i (list): list of intensities of affectation of the principles in I\n",
    "    I_j (list): list of intensities of affectation of the principles in J\n",
    "    G_i (list): list of weights of the principles in I\n",
    "    G_j (list): list of weights of the principles in J\n",
    "    S_i (list): list of likelihood of violation of the principles in I\n",
    "    S_j (list): list of likelihood of violation of the principles in J\n",
    "    '''\n",
    "\n",
    "    # Calculate the weight of the principles in I and J\n",
    "    weight_i = sum([I_i[i] * G_i[i] * S_i[i] for i in range(len(I))])\n",
    "    weight_j = sum([I_j[i] * G_j[i] * S_j[i] for i in range(len(J))])\n",
    "\n",
    "\n",
    "    # Calculate the balance of the principles\n",
    "    balance = weight_i / weight_j\n",
    "    if balance > 1:\n",
    "        return f\"UNCONSTITUTIONAL - {I} prevails (weight: {balance:.2f})\"\n",
    "    elif balance < 1:\n",
    "        return f\"CONSTITUTIONAL - {J} prevails (weight: {balance:.2f})\"\n",
    "    else:\n",
    "        return \"STALEMATE - Legislative discretion (weight: 1.00)\"\n",
    "    "
   ]
  },
  {
   "cell_type": "code",
   "execution_count": 40,
   "id": "b0c914c2",
   "metadata": {},
   "outputs": [
    {
     "name": "stdout",
     "output_type": "stream",
     "text": [
      "UNCONSTITUTIONAL - ['devido processo legal', 'imparcialidade'] prevails (weight: 2.00)\n"
     ]
    }
   ],
   "source": [
    "# IAB example\n",
    "\n",
    "J = ['segurança', 'imparcialidade']\n",
    "I_j = [4, 2]\n",
    "G_j = [4, 2]\n",
    "S_j = [0.25 ,0.25]\n",
    "\n",
    "I = ['devido processo legal', 'imparcialidade']\n",
    "I_i = [2, 2]\n",
    "G_i = [4, 2]\n",
    "S_i = [1, 0.5]\n",
    "\n",
    "\n",
    "juiz_sem_rosto_sc = balance_principles_extended(I, J, I_i, I_j, G_i, G_j, S_i, S_j)\n",
    "print(juiz_sem_rosto_sc)"
   ]
  },
  {
   "cell_type": "code",
   "execution_count": null,
   "id": "ffeaba66",
   "metadata": {},
   "outputs": [],
   "source": []
  }
 ],
 "metadata": {
  "kernelspec": {
   "display_name": "alexy",
   "language": "python",
   "name": "python3"
  },
  "language_info": {
   "codemirror_mode": {
    "name": "ipython",
    "version": 3
   },
   "file_extension": ".py",
   "mimetype": "text/x-python",
   "name": "python",
   "nbconvert_exporter": "python",
   "pygments_lexer": "ipython3",
   "version": "3.13.5"
  }
 },
 "nbformat": 4,
 "nbformat_minor": 5
}
